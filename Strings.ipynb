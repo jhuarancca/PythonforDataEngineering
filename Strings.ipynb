{
  "nbformat": 4,
  "nbformat_minor": 0,
  "metadata": {
    "colab": {
      "provenance": [],
      "authorship_tag": "ABX9TyOWLQuT2jjp60oUWF5Gf0Op",
      "include_colab_link": true
    },
    "kernelspec": {
      "name": "python3",
      "display_name": "Python 3"
    },
    "language_info": {
      "name": "python"
    }
  },
  "cells": [
    {
      "cell_type": "markdown",
      "metadata": {
        "id": "view-in-github",
        "colab_type": "text"
      },
      "source": [
        "<a href=\"https://colab.research.google.com/github/jhuarancca/PythonforDataEngineering/blob/main/Strings.ipynb\" target=\"_parent\"><img src=\"https://colab.research.google.com/assets/colab-badge.svg\" alt=\"Open In Colab\"/></a>"
      ]
    },
    {
      "cell_type": "code",
      "execution_count": 1,
      "metadata": {
        "colab": {
          "base_uri": "https://localhost:8080/"
        },
        "id": "4fzRpuLGVNqV",
        "outputId": "6372c48e-efb9-4f8b-8d5c-ae9727673173"
      },
      "outputs": [
        {
          "output_type": "stream",
          "name": "stdout",
          "text": [
            "Hello Data Engineering!!\n"
          ]
        }
      ],
      "source": [
        "greeting=\"Hello Data Engineering!!\"\n",
        "print(greeting)\n",
        "\n"
      ]
    },
    {
      "cell_type": "code",
      "source": [
        "name = 'Juan de Dios'\n",
        "message = greeting+' '+name\n",
        "print(message)"
      ],
      "metadata": {
        "colab": {
          "base_uri": "https://localhost:8080/"
        },
        "id": "4EpAkHkRVbms",
        "outputId": "34057cbc-06b8-4362-89c1-c7ae1435bac2"
      },
      "execution_count": 3,
      "outputs": [
        {
          "output_type": "stream",
          "name": "stdout",
          "text": [
            "Hello Data Engineering!! Juan de Dios\n"
          ]
        }
      ]
    },
    {
      "cell_type": "code",
      "source": [
        "new_string=greeting.replace('Hello','Hi')\n",
        "print(new_string)"
      ],
      "metadata": {
        "colab": {
          "base_uri": "https://localhost:8080/"
        },
        "id": "RILranumVma7",
        "outputId": "e29c35a8-888c-4c82-ade2-146b02b05380"
      },
      "execution_count": 4,
      "outputs": [
        {
          "output_type": "stream",
          "name": "stdout",
          "text": [
            "Hi Data Engineering!!\n"
          ]
        }
      ]
    },
    {
      "cell_type": "code",
      "source": [
        "sentence='    Hello World   '\n",
        "print(sentence.strip())"
      ],
      "metadata": {
        "colab": {
          "base_uri": "https://localhost:8080/"
        },
        "id": "T0CgRB4WV1wE",
        "outputId": "02c8298f-a2e1-488a-8ce1-72a35c342875"
      },
      "execution_count": 6,
      "outputs": [
        {
          "output_type": "stream",
          "name": "stdout",
          "text": [
            "Hello World\n"
          ]
        }
      ]
    },
    {
      "cell_type": "code",
      "source": [
        "index= greeting.find('Data')\n",
        "print(index)"
      ],
      "metadata": {
        "colab": {
          "base_uri": "https://localhost:8080/"
        },
        "id": "NaCr1NugWCSF",
        "outputId": "331b41a2-7e98-4ab9-e32a-ae3a30089765"
      },
      "execution_count": 7,
      "outputs": [
        {
          "output_type": "stream",
          "name": "stdout",
          "text": [
            "6\n"
          ]
        }
      ]
    },
    {
      "cell_type": "code",
      "source": [
        "template='Hello {}'\n",
        "print(template.format('Juan de Dios'))"
      ],
      "metadata": {
        "colab": {
          "base_uri": "https://localhost:8080/"
        },
        "id": "RYIx9JQMWINm",
        "outputId": "d2cdfa9d-3427-4f1e-efa2-fee707c3d861"
      },
      "execution_count": 8,
      "outputs": [
        {
          "output_type": "stream",
          "name": "stdout",
          "text": [
            "Hello Juan de Dios\n"
          ]
        }
      ]
    },
    {
      "cell_type": "code",
      "source": [
        "print(greeting.upper())"
      ],
      "metadata": {
        "colab": {
          "base_uri": "https://localhost:8080/"
        },
        "id": "aPAi7S5kWS57",
        "outputId": "debb8229-d1ca-4ff8-a370-8fc8bba83463"
      },
      "execution_count": 9,
      "outputs": [
        {
          "output_type": "stream",
          "name": "stdout",
          "text": [
            "HELLO DATA ENGINEERING!!\n"
          ]
        }
      ]
    },
    {
      "cell_type": "code",
      "source": [
        "print(greeting.lower())"
      ],
      "metadata": {
        "colab": {
          "base_uri": "https://localhost:8080/"
        },
        "id": "1hPHksGiWVuN",
        "outputId": "1a0a4a1b-eee4-4898-f08c-f38c0d759969"
      },
      "execution_count": 10,
      "outputs": [
        {
          "output_type": "stream",
          "name": "stdout",
          "text": [
            "hello data engineering!!\n"
          ]
        }
      ]
    },
    {
      "cell_type": "code",
      "source": [
        "words=greeting.split()\n",
        "print(words)"
      ],
      "metadata": {
        "colab": {
          "base_uri": "https://localhost:8080/"
        },
        "id": "NE5Yp7MjWX_m",
        "outputId": "0ea7adaa-e8f0-44ed-9673-44e892a4c0ae"
      },
      "execution_count": 11,
      "outputs": [
        {
          "output_type": "stream",
          "name": "stdout",
          "text": [
            "['Hello', 'Data', 'Engineering!!']\n"
          ]
        }
      ]
    }
  ]
}