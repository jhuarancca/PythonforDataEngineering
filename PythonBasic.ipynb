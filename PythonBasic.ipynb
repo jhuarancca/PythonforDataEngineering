{
  "nbformat": 4,
  "nbformat_minor": 0,
  "metadata": {
    "colab": {
      "provenance": [],
      "authorship_tag": "ABX9TyNfoSKlmhXdaPGBJiN/7Trz",
      "include_colab_link": true
    },
    "kernelspec": {
      "name": "python3",
      "display_name": "Python 3"
    },
    "language_info": {
      "name": "python"
    }
  },
  "cells": [
    {
      "cell_type": "markdown",
      "metadata": {
        "id": "view-in-github",
        "colab_type": "text"
      },
      "source": [
        "<a href=\"https://colab.research.google.com/github/jhuarancca/PythonforDataEngineering/blob/main/PythonBasic.ipynb\" target=\"_parent\"><img src=\"https://colab.research.google.com/assets/colab-badge.svg\" alt=\"Open In Colab\"/></a>"
      ]
    },
    {
      "cell_type": "markdown",
      "source": [
        "Python Basic"
      ],
      "metadata": {
        "id": "cOi5BdOpgvUR"
      }
    },
    {
      "cell_type": "code",
      "execution_count": null,
      "metadata": {
        "colab": {
          "base_uri": "https://localhost:8080/"
        },
        "id": "Pybij8ldNEcq",
        "outputId": "f4c76693-471e-4975-807a-39f033fc7749"
      },
      "outputs": [
        {
          "output_type": "stream",
          "name": "stdout",
          "text": [
            "Hello data engineering\n"
          ]
        }
      ],
      "source": [
        "print(\"Hello data engineering\")"
      ]
    },
    {
      "cell_type": "code",
      "source": [
        "int_var =1\n",
        "float_var = 2.251\n",
        "boolean_var= True\n",
        "string_var=\"Hello World\"\n",
        "\n",
        "print(int_var);\n",
        "print(float_var);"
      ],
      "metadata": {
        "colab": {
          "base_uri": "https://localhost:8080/"
        },
        "id": "NwcJKdLAg1M-",
        "outputId": "035879fb-6e47-4778-fc0b-d2a4db43facb"
      },
      "execution_count": null,
      "outputs": [
        {
          "output_type": "stream",
          "name": "stdout",
          "text": [
            "1\n",
            "2.251\n"
          ]
        }
      ]
    },
    {
      "cell_type": "code",
      "source": [
        "num1 =4\n",
        "num2=5\n",
        "\n",
        "sum=num1+num2\n",
        "\n",
        "print(sum)"
      ],
      "metadata": {
        "colab": {
          "base_uri": "https://localhost:8080/"
        },
        "id": "fLlPRaO91s-K",
        "outputId": "cd66c624-de38-4ebb-db59-31f86b51d241"
      },
      "execution_count": 2,
      "outputs": [
        {
          "output_type": "stream",
          "name": "stdout",
          "text": [
            "9\n"
          ]
        }
      ]
    },
    {
      "cell_type": "code",
      "source": [
        "sub = num1 - num2\n",
        "mul = num1*num2\n",
        "div = num2/num1\n",
        "\n",
        "print(sub)\n",
        "print(mul)\n",
        "print(div)"
      ],
      "metadata": {
        "colab": {
          "base_uri": "https://localhost:8080/"
        },
        "id": "RJUlisG_RT9O",
        "outputId": "c590a224-ef05-4909-bd51-688a3d1b4196"
      },
      "execution_count": 3,
      "outputs": [
        {
          "output_type": "stream",
          "name": "stdout",
          "text": [
            "-1\n",
            "20\n",
            "1.25\n"
          ]
        }
      ]
    },
    {
      "cell_type": "code",
      "source": [
        "var_equal= num1==num2\n",
        "print(var_equal)"
      ],
      "metadata": {
        "colab": {
          "base_uri": "https://localhost:8080/"
        },
        "id": "9Kq8sV0aRwaI",
        "outputId": "ed06ba87-8efa-40e0-9997-3931e82b6bc5"
      },
      "execution_count": 4,
      "outputs": [
        {
          "output_type": "stream",
          "name": "stdout",
          "text": [
            "False\n"
          ]
        }
      ]
    },
    {
      "cell_type": "code",
      "source": [
        "var_notequal= num1!=num2\n",
        "print(var_notequal)"
      ],
      "metadata": {
        "colab": {
          "base_uri": "https://localhost:8080/"
        },
        "id": "cVFwrh1DR6yc",
        "outputId": "7d386fc6-5e59-46f0-b7eb-0ced1b24b821"
      },
      "execution_count": 5,
      "outputs": [
        {
          "output_type": "stream",
          "name": "stdout",
          "text": [
            "True\n"
          ]
        }
      ]
    },
    {
      "cell_type": "code",
      "source": [
        "greater=num1>num2\n",
        "print(greater)"
      ],
      "metadata": {
        "colab": {
          "base_uri": "https://localhost:8080/"
        },
        "id": "fP_cxoElR_3e",
        "outputId": "6bc37875-7a98-4cc9-fb17-117ed141be59"
      },
      "execution_count": 6,
      "outputs": [
        {
          "output_type": "stream",
          "name": "stdout",
          "text": [
            "False\n"
          ]
        }
      ]
    },
    {
      "cell_type": "code",
      "source": [
        "print (True and False)"
      ],
      "metadata": {
        "colab": {
          "base_uri": "https://localhost:8080/"
        },
        "id": "CJG2YA69SHhE",
        "outputId": "a228b60f-26d7-4124-b997-12c7184ccc1d"
      },
      "execution_count": 8,
      "outputs": [
        {
          "output_type": "stream",
          "name": "stdout",
          "text": [
            "False\n"
          ]
        }
      ]
    },
    {
      "cell_type": "code",
      "source": [
        "print (True or False)"
      ],
      "metadata": {
        "colab": {
          "base_uri": "https://localhost:8080/"
        },
        "id": "vcgDP9iaSOml",
        "outputId": "84760e11-7f54-4490-f9e8-263ba0dcb5e5"
      },
      "execution_count": 9,
      "outputs": [
        {
          "output_type": "stream",
          "name": "stdout",
          "text": [
            "True\n"
          ]
        }
      ]
    },
    {
      "cell_type": "code",
      "source": [
        "num=7\n",
        "if num>10:\n",
        "  print(\"Greater\")\n",
        "else:\n",
        "  print(\"Smaller\")"
      ],
      "metadata": {
        "colab": {
          "base_uri": "https://localhost:8080/"
        },
        "id": "oHMxkV-rSXKO",
        "outputId": "a7be7d1f-dc76-4a32-da6f-f08c86451fe6"
      },
      "execution_count": 10,
      "outputs": [
        {
          "output_type": "stream",
          "name": "stdout",
          "text": [
            "Smaller\n"
          ]
        }
      ]
    },
    {
      "cell_type": "code",
      "source": [
        "for i in range(5):\n",
        "  print(i)"
      ],
      "metadata": {
        "colab": {
          "base_uri": "https://localhost:8080/"
        },
        "id": "hvYdbmYuSX-P",
        "outputId": "a655ce77-cf9b-462c-b901-db5ff3a4ed78"
      },
      "execution_count": 11,
      "outputs": [
        {
          "output_type": "stream",
          "name": "stdout",
          "text": [
            "0\n",
            "1\n",
            "2\n",
            "3\n",
            "4\n"
          ]
        }
      ]
    },
    {
      "cell_type": "code",
      "source": [
        "number=5\n",
        "while number>=0:\n",
        "  print(number)\n",
        "  number=number - 1\n"
      ],
      "metadata": {
        "colab": {
          "base_uri": "https://localhost:8080/"
        },
        "id": "ewwCmQi4SY2M",
        "outputId": "e5c8a3ba-4d2e-4d0e-d3ed-18fdec07b8c3"
      },
      "execution_count": 13,
      "outputs": [
        {
          "output_type": "stream",
          "name": "stdout",
          "text": [
            "5\n",
            "4\n",
            "3\n",
            "2\n",
            "1\n",
            "0\n"
          ]
        }
      ]
    },
    {
      "cell_type": "code",
      "source": [],
      "metadata": {
        "id": "PE6NbAaOTMIe"
      },
      "execution_count": null,
      "outputs": []
    }
  ]
}