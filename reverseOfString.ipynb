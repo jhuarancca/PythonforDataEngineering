{
  "nbformat": 4,
  "nbformat_minor": 0,
  "metadata": {
    "colab": {
      "provenance": [],
      "authorship_tag": "ABX9TyOqttZypo2VUyETuNmj5U+Q",
      "include_colab_link": true
    },
    "kernelspec": {
      "name": "python3",
      "display_name": "Python 3"
    },
    "language_info": {
      "name": "python"
    }
  },
  "cells": [
    {
      "cell_type": "markdown",
      "metadata": {
        "id": "view-in-github",
        "colab_type": "text"
      },
      "source": [
        "<a href=\"https://colab.research.google.com/github/jhuarancca/PythonforDataEngineering/blob/main/reverseOfString.ipynb\" target=\"_parent\"><img src=\"https://colab.research.google.com/assets/colab-badge.svg\" alt=\"Open In Colab\"/></a>"
      ]
    },
    {
      "cell_type": "code",
      "execution_count": null,
      "metadata": {
        "id": "SHBw3Me3X77D"
      },
      "outputs": [],
      "source": [
        "# prompt: reverse a string\n",
        "\n",
        "def reverse(s):\n",
        "  str = \"\"\n",
        "  for i in s:\n",
        "    str = i + str\n",
        "  return str\n",
        "\n",
        "s = \"Geeksforgeeks\"\n",
        "print(\"The original string  is : \" + str(s))\n",
        "print(\"The reversed string(using loop) is : \" + reverse(s))\n"
      ]
    },
    {
      "cell_type": "code",
      "source": [
        "def invertir(s):\n",
        "  string=\"\"\n",
        "  for i in s:\n",
        "    string= i +string\n",
        "  return string\n",
        "\n"
      ],
      "metadata": {
        "id": "CvkPLWKzZH1H"
      },
      "execution_count": 3,
      "outputs": []
    },
    {
      "cell_type": "code",
      "source": [
        "invertir(\"Juan de Dios\")"
      ],
      "metadata": {
        "colab": {
          "base_uri": "https://localhost:8080/",
          "height": 36
        },
        "id": "OT1mjgE7vVRJ",
        "outputId": "356489dd-0b55-4bbd-faae-18e1123b20a4"
      },
      "execution_count": 4,
      "outputs": [
        {
          "output_type": "execute_result",
          "data": {
            "text/plain": [
              "'soiD ed nauJ'"
            ],
            "application/vnd.google.colaboratory.intrinsic+json": {
              "type": "string"
            }
          },
          "metadata": {},
          "execution_count": 4
        }
      ]
    }
  ]
}